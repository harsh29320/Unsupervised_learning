{
 "cells": [
  {
   "cell_type": "code",
   "execution_count": 29,
   "metadata": {},
   "outputs": [],
   "source": [
    "#import necessary modules\n",
    "\n",
    "import pandas as pd\n",
    "from sklearn import datasets\n",
    "from sklearn.cluster import KMeans\n",
    "import matplotlib.pyplot as plt"
   ]
  },
  {
   "cell_type": "code",
   "execution_count": 2,
   "metadata": {},
   "outputs": [],
   "source": [
    "#download iris dataset \n",
    "\n",
    "iris_data = datasets.load_iris()"
   ]
  },
  {
   "cell_type": "code",
   "execution_count": 3,
   "metadata": {},
   "outputs": [],
   "source": [
    "#Extract the dataset in array\n",
    "\n",
    "df_array = iris_data.data"
   ]
  },
  {
   "cell_type": "code",
   "execution_count": 20,
   "metadata": {},
   "outputs": [
    {
     "data": {
      "image/png": "[encoded data removed]",
      "text/plain": [
       "<matplotlib.figure.Figure at 0x22ed49dea58>"
      ]
     },
     "metadata": {},
     "output_type": "display_data"
    }
   ],
   "source": [
    "#K-Means Clustering: choosing number of clusters\n",
    "\n",
    "kranges = range(1, 6)\n",
    "inertias = []\n",
    "\n",
    "for k in kranges:\n",
    "    \n",
    "    #instantiate KMeans\n",
    "    model = KMeans(n_clusters=k)\n",
    "    \n",
    "    #fit the model\n",
    "    model.fit(df_array)\n",
    "    \n",
    "    inertias.append(model.inertia_)\n",
    "    \n",
    "#Create a plot of inertia for different number of clusters\n",
    "\n",
    "plt.plot(kranges, inertias, '-*')\n",
    "plt.xlabel('Number of clusters')\n",
    "plt.ylabel('Inertias')\n",
    "plt.show()"
   ]
  },
  {
   "cell_type": "markdown",
   "metadata": {},
   "source": [
    "The above plot shows that after 3 (number of clusters) the inertia decrease very slowly. So, the ideal number of clusters for this dataset could be 3. Further checking the performance of model using 3 clusters."
   ]
  },
  {
   "cell_type": "code",
   "execution_count": 53,
   "metadata": {},
   "outputs": [],
   "source": [
    "#set the model using number of clusters as 3\n",
    "\n",
    "model = KMeans(n_clusters = 3)\n",
    "labels = model.fit_predict(df_array)\n",
    "df['species'] = pd.Categorical.from_codes(iris_data.target, iris_data.target_names)\n",
    "\n",
    "#create a dataframe for predicted and true labels\n",
    "df = pd.DataFrame({'labels':labels, 'varieties':df.species})\n",
    "\n",
    "\n",
    "#create crosstab to check model performance\n",
    "ctab = pd.crosstab(df['labels'], df['varieties'])"
   ]
  },
  {
   "cell_type": "code",
   "execution_count": 54,
   "metadata": {},
   "outputs": [
    {
     "name": "stdout",
     "output_type": "stream",
     "text": [
      "varieties  setosa  versicolor  virginica\n",
      "labels                                  \n",
      "0               0          48         14\n",
      "1              50           0          0\n",
      "2               0           2         36\n"
     ]
    }
   ],
   "source": [
    "print(ctab)"
   ]
  },
  {
   "cell_type": "markdown",
   "metadata": {},
   "source": [
    "Overall the model was doing perfect in predicting two varities"
   ]
  },
  {
   "cell_type": "code",
   "execution_count": null,
   "metadata": {},
   "outputs": [],
   "source": []
  }
 ],
 "metadata": {
  "kernelspec": {
   "display_name": "Python 3",
   "language": "python",
   "name": "python3"
  },
  "language_info": {
   "codemirror_mode": {
    "name": "ipython",
    "version": 3
   },
   "file_extension": ".py",
   "mimetype": "text/x-python",
   "name": "python",
   "nbconvert_exporter": "python",
   "pygments_lexer": "ipython3",
   "version": "3.6.4"
  }
 },
 "nbformat": 4,
 "nbformat_minor": 2
}
